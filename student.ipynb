version https://git-lfs.github.com/spec/v1
oid sha256:d21b6988db30515cfd30eaa97a3296ff64118d9f3b8c4598e116143b1252b8f9
size 377768
