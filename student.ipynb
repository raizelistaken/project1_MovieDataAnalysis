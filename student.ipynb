version https://git-lfs.github.com/spec/v1
oid sha256:baf2dbe257ba1d5fdfb62ccf256d364d43414d152a938368ab86f088a010cd75
size 380426
