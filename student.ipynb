version https://git-lfs.github.com/spec/v1
oid sha256:3c809515f3dccc380c72520a6570a742c82c06b597ecae8a2d676e3bd0d79592
size 355731
